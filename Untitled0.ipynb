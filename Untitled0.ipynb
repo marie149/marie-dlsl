{
  "nbformat": 4,
  "nbformat_minor": 0,
  "metadata": {
    "colab": {
      "provenance": []
    },
    "kernelspec": {
      "name": "python3",
      "display_name": "Python 3"
    },
    "language_info": {
      "name": "python"
    }
  },
  "cells": [
    {
      "cell_type": "code",
      "execution_count": 8,
      "metadata": {
        "colab": {
          "base_uri": "https://localhost:8080/"
        },
        "id": "C4wL7sN4Lbdr",
        "outputId": "c58d994b-32f3-40da-de13-f04539664fca"
      },
      "outputs": [
        {
          "output_type": "stream",
          "name": "stdout",
          "text": [
            "m\n",
            "o\n"
          ]
        }
      ],
      "source": [
        "text = \"my name is marie and i live in london\"\n",
        "print(text[0])\n",
        "print(text[-2])\n",
        "print(text[0:7])\n"
      ]
    },
    {
      "cell_type": "markdown",
      "source": [
        "print(text[0:5])  =   0 inclu et 5 exlu\n",
        "\n",
        "if you don't put the second that means until the end"
      ],
      "metadata": {
        "id": "zjV-tDGCNELK"
      }
    },
    {
      "cell_type": "code",
      "source": [],
      "metadata": {
        "id": "Oyb0zAw1N7t8"
      },
      "execution_count": null,
      "outputs": []
    },
    {
      "cell_type": "code",
      "source": [
        "name = \"abcde\"\n",
        "print(name[4])"
      ],
      "metadata": {
        "colab": {
          "base_uri": "https://localhost:8080/"
        },
        "id": "6TUaXE65ML7P",
        "outputId": "b604269c-c392-4db5-aceb-8515772f6a45"
      },
      "execution_count": 7,
      "outputs": [
        {
          "output_type": "stream",
          "name": "stdout",
          "text": [
            "e\n"
          ]
        }
      ]
    },
    {
      "cell_type": "code",
      "source": [
        "text = \"london, the capital of england and the united kingdom, is a 21st-century city with history streching back to roman times.\"\n",
        "print(len(text))\n",
        "print(text[23])\n",
        "print(text[-6:-1])"
      ],
      "metadata": {
        "colab": {
          "base_uri": "https://localhost:8080/"
        },
        "id": "Y6cHaz7TN9Iq",
        "outputId": "0d92566b-2523-420d-eec4-44cfb4217c87"
      },
      "execution_count": 11,
      "outputs": [
        {
          "output_type": "stream",
          "name": "stdout",
          "text": [
            "121\n",
            "e\n"
          ]
        }
      ]
    },
    {
      "cell_type": "code",
      "source": [
        "text = input(\"where are you from?\")\n",
        "# If the city starts with L then print\"capital L\"\n",
        "# else print \"something else\"\n",
        "#check if the text has a . at the end, if so say you have a dot.\n",
        "#if not say there is no dot!\n",
        "\n",
        "\n",
        "if text[0]==\"L\":\n",
        "  print(\"capital L\")\n",
        "else:\n",
        "  print(\"something else\")\n",
        "\n",
        "if text[-1]=='.':\n",
        "  print(\"there is no dot\")\n",
        "else:\n",
        "  print(\"not dot!\")\n"
      ],
      "metadata": {
        "colab": {
          "base_uri": "https://localhost:8080/"
        },
        "id": "8RV-PMBwO6sZ",
        "outputId": "b97ab102-16f6-4a14-8ee1-71671aed5771"
      },
      "execution_count": 14,
      "outputs": [
        {
          "output_type": "stream",
          "name": "stdout",
          "text": [
            "where are you from?versailles\n",
            "something else\n"
          ]
        }
      ]
    }
  ]
}