{
  "nbformat": 4,
  "nbformat_minor": 0,
  "metadata": {
    "colab": {
      "provenance": []
    },
    "kernelspec": {
      "name": "python3",
      "display_name": "Python 3"
    },
    "language_info": {
      "name": "python"
    }
  },
  "cells": [
    {
      "cell_type": "code",
      "execution_count": null,
      "metadata": {
        "colab": {
          "base_uri": "https://localhost:8080/"
        },
        "id": "tWnzyOa70uV9",
        "outputId": "7d45c234-d637-4462-ba76-6a8eeb80091a"
      },
      "outputs": [
        {
          "output_type": "stream",
          "name": "stdout",
          "text": [
            "stelios\n",
            "london\n",
            "hi there\n",
            "hi there\n",
            "10\n",
            "number is 5.5\n"
          ]
        }
      ],
      "source": [
        "print(\"stelios\")\n",
        "print(\"london\")\n",
        "print(\"hi\",\"there\")\n",
        "print(\"hi there\")\n",
        "print(10)\n",
        "print (\"number is\",5.5)\n",
        "\n"
      ]
    },
    {
      "cell_type": "code",
      "source": [
        "print((3*12+5)/23)\n"
      ],
      "metadata": {
        "colab": {
          "base_uri": "https://localhost:8080/"
        },
        "id": "UbhBBxIO1ssg",
        "outputId": "b22a488d-adde-4d46-ed25-853138678a98"
      },
      "execution_count": null,
      "outputs": [
        {
          "output_type": "stream",
          "name": "stdout",
          "text": [
            "1.7826086956521738\n"
          ]
        }
      ]
    },
    {
      "cell_type": "code",
      "source": [
        "name = input(\"enter your name: \")\n",
        "city = input (\"enter a city: \")\n",
        "print(\"hello\",name,\"from\",city)\n"
      ],
      "metadata": {
        "id": "rv187WpF2f4x"
      },
      "execution_count": null,
      "outputs": []
    },
    {
      "cell_type": "code",
      "source": [
        "x = 10\n",
        "print(x*3)"
      ],
      "metadata": {
        "id": "iO7YMCjt3LuF"
      },
      "execution_count": null,
      "outputs": []
    },
    {
      "cell_type": "markdown",
      "source": [
        "exercise : ask the user to enter their name, tel num and city\n",
        "print the followin form:\n",
        "stelios drom paris tel is : ...\n"
      ],
      "metadata": {
        "id": "bnGi-eGT3pFS"
      }
    },
    {
      "cell_type": "code",
      "source": [
        "name = input(\"enter your name:\")\n",
        "telnum = input (\"enter your tel num:\")\n",
        "city = input (\"enter your city:\")\n",
        "print (name,\"from\",city,\"tel is\",telnum)\n"
      ],
      "metadata": {
        "colab": {
          "base_uri": "https://localhost:8080/"
        },
        "id": "NU_6IeGK36vF",
        "outputId": "a2517617-19bf-44c5-bf26-7bce3e7c9927"
      },
      "execution_count": null,
      "outputs": [
        {
          "output_type": "stream",
          "name": "stdout",
          "text": [
            "enter your name:marie\n",
            "enter your tel num:769081043\n",
            "enter your city:versailles\n",
            "marie from versailles tel is 769081043\n"
          ]
        }
      ]
    },
    {
      "cell_type": "code",
      "source": [
        "age = input(\"how old are you?\")\n",
        "print(age*3)\n"
      ],
      "metadata": {
        "colab": {
          "base_uri": "https://localhost:8080/"
        },
        "id": "B7c9phvN5BvC",
        "outputId": "95c58fc3-f93a-42b8-fe07-de64296b27ee"
      },
      "execution_count": null,
      "outputs": [
        {
          "output_type": "stream",
          "name": "stdout",
          "text": [
            "how old are you?17\n",
            "171717\n"
          ]
        }
      ]
    },
    {
      "cell_type": "code",
      "source": [
        "age = int(input(\"hox old are you\"))\n",
        "print(age*3)"
      ],
      "metadata": {
        "colab": {
          "base_uri": "https://localhost:8080/"
        },
        "id": "XC8f5H6G55G2",
        "outputId": "a4453759-e193-4774-c56f-b056e5c01172"
      },
      "execution_count": null,
      "outputs": [
        {
          "output_type": "stream",
          "name": "stdout",
          "text": [
            "hox old are you17\n",
            "51\n"
          ]
        }
      ]
    },
    {
      "cell_type": "markdown",
      "source": [
        "exercise:\n",
        "ask the user to give you two numbes one after the other print the addition of number"
      ],
      "metadata": {
        "id": "vnND_lTd6E2E"
      }
    },
    {
      "cell_type": "code",
      "source": [
        "x = int(input(\"enter a number:\"))\n",
        "y = float(input(\"enter a number:\"))\n",
        "print (x/y)\n"
      ],
      "metadata": {
        "colab": {
          "base_uri": "https://localhost:8080/"
        },
        "id": "j9Z1M3GJ6T7S",
        "outputId": "0d8daf04-1bcb-45ee-bdac-858e04e1145b"
      },
      "execution_count": null,
      "outputs": [
        {
          "output_type": "stream",
          "name": "stdout",
          "text": [
            "enter a number:7\n",
            "enter a number:5.5\n",
            "1.2727272727272727\n"
          ]
        }
      ]
    },
    {
      "cell_type": "code",
      "source": [
        "x = 10\n",
        "y = 0\n",
        "\n",
        "if y==0:\n",
        "  print(\"I cannot divide by zero\")\n",
        "  print(\"you are stupid!\")\n",
        "else:\n",
        "  print(x/y)\n"
      ],
      "metadata": {
        "colab": {
          "base_uri": "https://localhost:8080/"
        },
        "id": "bZIQoKfz73af",
        "outputId": "0fd0c189-ef03-40b5-8598-085642859655"
      },
      "execution_count": null,
      "outputs": [
        {
          "output_type": "stream",
          "name": "stdout",
          "text": [
            "I cannot divide by zero\n",
            "you are stupid!\n"
          ]
        }
      ]
    },
    {
      "cell_type": "markdown",
      "source": [
        "exercise:\n",
        "ask the user to enter two integer numbers. Print the largest number\n"
      ],
      "metadata": {
        "id": "Xn6mjJOX9GqL"
      }
    },
    {
      "cell_type": "code",
      "source": [
        "x = int(input(\"enter a number: \"))\n",
        "y = int(input(\"enter a second number: \"))\n",
        "\n",
        "if x>y:\n",
        "  print(\"max is\",x)\n",
        "else:\n",
        "  print(\"max is\",y)"
      ],
      "metadata": {
        "colab": {
          "base_uri": "https://localhost:8080/"
        },
        "id": "yH7TRuOy9kQA",
        "outputId": "34f9959f-bd30-448f-a03b-59a2bf90d2dc"
      },
      "execution_count": null,
      "outputs": [
        {
          "output_type": "stream",
          "name": "stdout",
          "text": [
            "enter a number: 7\n",
            "enter a second number: 5\n",
            "max is 7\n"
          ]
        }
      ]
    },
    {
      "cell_type": "code",
      "source": [
        "x = int(input(\"enter a number: \"))\n",
        "if x>0:\n",
        "  print(\"positive\")\n",
        "elif x==0:\n",
        "  print(\"zero\")\n",
        "else:\n",
        "  print(\"negative\")\n"
      ],
      "metadata": {
        "id": "nLPJ0M4J8b5_",
        "colab": {
          "base_uri": "https://localhost:8080/"
        },
        "outputId": "b7ef3b0e-4039-4e63-8ee1-fa31bd498eee"
      },
      "execution_count": null,
      "outputs": [
        {
          "output_type": "stream",
          "name": "stdout",
          "text": [
            "enter a number: -5\n",
            "negative\n"
          ]
        }
      ]
    },
    {
      "cell_type": "code",
      "source": [
        "x = int(input(\"enter a number: \"))\n",
        "if x>0 and x<10:\n",
        "  print(\"number between 0 and 10\")\n",
        "else:\n",
        "  print(\"something else...\")\n"
      ],
      "metadata": {
        "colab": {
          "base_uri": "https://localhost:8080/"
        },
        "id": "9dKjGi93HIkH",
        "outputId": "eda390ee-c6c7-4912-e5f8-89bcb541a9c5"
      },
      "execution_count": null,
      "outputs": [
        {
          "output_type": "stream",
          "name": "stdout",
          "text": [
            "enter a number: 10\n",
            "something else...\n"
          ]
        }
      ]
    },
    {
      "cell_type": "markdown",
      "source": [
        "exercise:\n"
      ],
      "metadata": {
        "id": "7JCaaRe1Hn4b"
      }
    },
    {
      "cell_type": "code",
      "source": [
        "x = float(input(\"enter a number: \"))\n",
        "if x>=0 and x<10:\n",
        "  print(\"fail\")\n",
        "elif x>=10 and x<15:\n",
        "  print(\"pass\")\n",
        "elif x>=15 and x<=20:\n",
        "  print(\"distinction\")\n",
        "else:\n",
        "  print (\"error\")"
      ],
      "metadata": {
        "colab": {
          "base_uri": "https://localhost:8080/"
        },
        "id": "2y9Bs6XtIAJf",
        "outputId": "d0839ac7-8934-4f67-8da1-070cebe1b61f"
      },
      "execution_count": null,
      "outputs": [
        {
          "output_type": "stream",
          "name": "stdout",
          "text": [
            "enter a number: 18\n",
            "distinction\n"
          ]
        }
      ]
    },
    {
      "cell_type": "code",
      "source": [],
      "metadata": {
        "id": "IWfln2WPJYgc"
      },
      "execution_count": null,
      "outputs": []
    }
  ]
}