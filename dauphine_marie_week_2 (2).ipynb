{
  "nbformat": 4,
  "nbformat_minor": 0,
  "metadata": {
    "colab": {
      "provenance": []
    },
    "kernelspec": {
      "name": "python3",
      "display_name": "Python 3"
    },
    "language_info": {
      "name": "python"
    }
  },
  "cells": [
    {
      "cell_type": "code",
      "execution_count": 2,
      "metadata": {
        "colab": {
          "base_uri": "https://localhost:8080/"
        },
        "id": "KodrqbziFHOS",
        "outputId": "f5af346e-0d9b-4d82-dfa9-306aae35d76c"
      },
      "outputs": [
        {
          "output_type": "stream",
          "name": "stdout",
          "text": [
            "enter a number: 8\n",
            "enter a number: 9\n",
            "enter a sign(+,-,*,/,**,>,<): +\n",
            "17.0\n"
          ]
        }
      ],
      "source": [
        "num1 = float(input(\"enter a number: \"))\n",
        "num2 = float(input(\"enter a number: \"))\n",
        "operation = input(\"enter a sign(+,-,*,/,**,>,<): \")\n",
        "\n",
        "if operation==\"+\":\n",
        "  print(num1+num2)\n",
        "elif operation==\"-\":\n",
        "  print (num1-num2)\n",
        "elif operation==\"*\":\n",
        "  print(num1*num2)\n",
        "elif operation==\"/\" and num2!=0:\n",
        "  print(num1/num2)\n",
        "elif operation==\"**\":\n",
        "  print(num1**num2)\n",
        "elif operation=='>' and num1>num2:\n",
        "  print(num1)\n",
        "elif operation=='<' and num1<num2:\n",
        "  print(num1)\n",
        "else:\n",
        "  print (\"I do not support this yet!\")\n",
        "\n",
        "\n"
      ]
    }
  ]
}